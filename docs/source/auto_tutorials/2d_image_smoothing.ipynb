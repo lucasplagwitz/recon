{
  "cells": [
    {
      "cell_type": "code",
      "execution_count": null,
      "metadata": {
        "collapsed": false
      },
      "outputs": [],
      "source": [
        "%matplotlib inline"
      ]
    },
    {
      "cell_type": "markdown",
      "metadata": {},
      "source": [
        "\n# 01. Smoothing\nThis example ...\n"
      ]
    },
    {
      "cell_type": "markdown",
      "metadata": {},
      "source": [
        "We import ....\n\n"
      ]
    },
    {
      "cell_type": "code",
      "execution_count": null,
      "metadata": {
        "collapsed": false
      },
      "outputs": [],
      "source": [
        "import matplotlib.pyplot as plt\nimport numpy as np\nfrom scipy import misc\n\nfrom recon.interfaces import Smoothing\n\nimg = misc.ascent()\nimg = img/np.max(img)\ngt = img\n\nvmin, vmax = 0, 1\n\n# create noisy image\nsigma = 0.2\nn = sigma*np.random.uniform(-1, 1, gt.shape)\nnoise_img = gt + n\n\nf = plt.figure()\nf.add_subplot(1,2, 1)\nplt.imshow(gt, vmin=vmin, vmax=vmax)\nf.add_subplot(1, 2, 2)\nplt.imshow(noise_img, vmin=vmin, vmax=vmax)\nplt.show(block=True)\n\n# TV smoothing small alpha\ntv_smoothing = Smoothing(domain_shape=gt.shape, reg_mode='tv', alpha=0.2)\nu_tv = tv_smoothing.solve(data=noise_img, max_iter=350, tol=10**(-5))\nplt.imshow(gt, vmin=vmin, vmax=vmax)\nplt.show()\n\n# Tikhonov smoothing -> with lam = 1 => alpha > 1 we decrease lam instead.\ntikh_smoothing = Smoothing(domain_shape=gt.shape, reg_mode='tikhonov', lam=0.1, alpha=1, tau=0.1)\nu_tik = tikh_smoothing.solve(data=noise_img, max_iter=350, tol=10**(-5))\nplt.imshow(gt, vmin=vmin, vmax=vmax)\nplt.show()\n\n\n# 1d comparisson with [gt, noise, tikhonov, tv]\nx_min = 84\nx_max = 155\ny = 20\nplt.plot(range(x_min, x_max), gt[x_min:x_max,y], color=\"black\", label=\"GT\")\nplt.plot(range(x_min, x_max), u_tik[x_min:x_max,y], color=\"blue\", label=\"Tikhonov\")\nplt.plot(range(x_min, x_max), noise_img[x_min:x_max,y], color=\"red\", label=\"Noise\")\nplt.plot(range(x_min, x_max), u_tv[x_min:x_max,y], color=\"green\", label=\"TV\")\nplt.legend(loc=\"lower left\")\nplt.plot(bbox_inches='tight', pad_inches=0)\n\n# Bregman is not yet adjusted\n\"\"\"\n# bregman iteration\nbreg_smoothing = SmoothBregman(domain_shape=gt.shape,\n                               reg_mode='tv',\n                               alpha=1.1,\n                               tau=0.0782,\n                               plot_iteration=True,\n                               assessment=0.6 * sigma*np.max(abs(gt.ravel())) * np.sqrt(np.prod(gt.shape)) )\nu_breg = breg_smoothing.solve(data=noise_img, max_iter=150, tol=5*10**(-6))\ndraw_images(u_breg, '2d_smoothing_bregman.png', vmin=0, vmax=np.max(gt))\n\n\n# 1d comparisson with [gt, noise, bregman_tv, tv, tikhonov]\nx_min = 84\nx_max = 155\ny = 20\nplt.plot(range(x_min, x_max), u_tik[x_min:x_max,y], color=\"darkcyan\", label=\"Tikhonov\")\nplt.plot(range(x_min, x_max), noise_img[x_min:x_max,y], color=\"red\", label=\"Noise\")\nplt.plot(range(x_min, x_max), u_tv[x_min:x_max,y], color=\"green\", label=\"TV\")\nplt.plot(range(x_min, x_max), gt[x_min:x_max,y], color=\"black\", label=\"GT\")\nplt.plot(range(x_min, x_max), u_breg[x_min:x_max,y], color=\"blue\", label=\"BregTV\")\nplt.legend(loc=\"lower left\")\nplt.savefig(data_output_path+'2d_smoothing_1d_comp_2.png', bbox_inches = 'tight', pad_inches = 0)\nplt.close()\n\"\"\""
      ]
    }
  ],
  "metadata": {
    "kernelspec": {
      "display_name": "Python 3",
      "language": "python",
      "name": "python3"
    },
    "language_info": {
      "codemirror_mode": {
        "name": "ipython",
        "version": 3
      },
      "file_extension": ".py",
      "mimetype": "text/x-python",
      "name": "python",
      "nbconvert_exporter": "python",
      "pygments_lexer": "ipython3",
      "version": "3.7.6"
    }
  },
  "nbformat": 4,
  "nbformat_minor": 0
}