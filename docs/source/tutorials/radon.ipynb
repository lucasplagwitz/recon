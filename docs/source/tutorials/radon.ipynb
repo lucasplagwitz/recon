{
  "cells": [
    {
      "cell_type": "code",
      "execution_count": null,
      "metadata": {
        "collapsed": false
      },
      "outputs": [],
      "source": [
        "%matplotlib inline"
      ]
    },
    {
      "cell_type": "markdown",
      "metadata": {},
      "source": [
        "\n# 02. Reconstruction I\nThis tutorial demonstrates the reconstruction of a\nmeasurement obtained in computerized tomography.\nAs mathematical construct the radon transform is obtained.\nThe implementation of the Astra-Toolbox is used.\n"
      ]
    },
    {
      "cell_type": "markdown",
      "metadata": {},
      "source": [
        "We create a scenario with a 180 equal distributed angles.\n\n\n"
      ]
    },
    {
      "cell_type": "code",
      "execution_count": null,
      "metadata": {
        "collapsed": false
      },
      "outputs": [],
      "source": [
        "import numpy as np\nimport matplotlib.pyplot as plt\n\nfrom recon.utils import psnr\nfrom recon.operator.ct_radon import CtRt\nfrom recon.interfaces import Recon, Smoothing\n\nfrom matplotlib import image\n\n# load image as pixel array\ngt = image.imread(\"../data/phantom.png\")\ngt = gt/np.max(gt)\n\nntheta = 180\ntheta = np.linspace(0, 180, ntheta, endpoint=False)\nsigma = 0.01\nR = CtRt(gt.shape, center=[gt.shape[0]//2, gt.shape[1]//2], theta=theta)\n\ny = R*gt.ravel()\ny_max = np.max(y)\n\nn = np.random.normal(0, sigma*y_max, size=y.shape)\ny = y + n\n\nx_rec = np.reshape(R.inv*y.ravel(), gt.shape)\n\nfig, axs = plt.subplots(1, 3, figsize=(14, 5))\naxs[0].imshow(gt, vmin=0, vmax=1)\naxs[0].set_title('Model')\naxs[0].axis('tight')\naxs[1].imshow(np.reshape(y, R.image_dim).T)\naxs[1].set_title('Data')\naxs[1].axis('tight')\naxs[2].imshow(x_rec, vmin=0, vmax=1)\naxs[2].set_title(\"FBP - PSNR: \"+str(psnr(gt, x_rec)))\naxs[2].axis('tight')\nfig.tight_layout()\nplt.show(block=False)"
      ]
    },
    {
      "cell_type": "markdown",
      "metadata": {},
      "source": [
        "Now we solve the problem using the optimization problem.\nA comparison to the denoising of the FBP solution is shown.\n\n\n"
      ]
    },
    {
      "cell_type": "code",
      "execution_count": null,
      "metadata": {
        "collapsed": false
      },
      "outputs": [],
      "source": [
        "lam = 15\nrec = Recon(operator=R, domain_shape=gt.shape, reg_mode='tv', alpha=1, lam=lam, extend_pdhgm=True)\nx_tv = rec.solve(data=y.ravel(), max_iter=1000, tol=1e-4)\n\ntv_smoothing = Smoothing(domain_shape=gt.shape, reg_mode='tv', lam=10, tau='calc')\nfbp_smooth = tv_smoothing.solve(data=x_rec, max_iter=1000, tol=1e-4)\n\n\nfig, axs = plt.subplots(1, 3, figsize=(14, 5))\naxs[0].imshow(gt, vmin=0, vmax=1)\naxs[0].set_title('Model')\naxs[0].axis('tight')\naxs[1].imshow(x_tv, vmin=0, vmax=1)\naxs[1].set_title(\"TV-Recon - PSNR: \"+str(psnr(gt, x_tv)))\naxs[1].axis('tight')\naxs[2].imshow(fbp_smooth, vmin=0, vmax=1)\naxs[2].set_title(\"FBP-Smooth - PSNR: \"+str(psnr(gt, fbp_smooth)))\naxs[2].axis('tight')\nfig.tight_layout()\nplt.show(block=False)"
      ]
    }
  ],
  "metadata": {
    "kernelspec": {
      "display_name": "Python 3",
      "language": "python",
      "name": "python3"
    },
    "language_info": {
      "codemirror_mode": {
        "name": "ipython",
        "version": 3
      },
      "file_extension": ".py",
      "mimetype": "text/x-python",
      "name": "python",
      "nbconvert_exporter": "python",
      "pygments_lexer": "ipython3",
      "version": "3.7.9"
    }
  },
  "nbformat": 4,
  "nbformat_minor": 0
}