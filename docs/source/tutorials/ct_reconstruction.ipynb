{
  "cells": [
    {
      "cell_type": "code",
      "execution_count": null,
      "metadata": {
        "collapsed": false
      },
      "outputs": [],
      "source": [
        "%matplotlib inline"
      ]
    },
    {
      "cell_type": "markdown",
      "metadata": {},
      "source": [
        "\n# 02. Reconstruction I\nThis tutorial demonstrates the reconstruction of a\nmeasurement obtained in computer tomography.\nAs mathematical construct the radon transformation is used here.\nThe implementations of skimage (radon, iradon) are used.\n"
      ]
    },
    {
      "cell_type": "markdown",
      "metadata": {},
      "source": [
        "We create a scenario with a\n\n"
      ]
    },
    {
      "cell_type": "code",
      "execution_count": null,
      "metadata": {
        "collapsed": false
      },
      "outputs": [],
      "source": [
        "import numpy as np\nimport matplotlib.pyplot as plt\nfrom skimage.data import shepp_logan_phantom\nfrom skimage.transform import rescale\n\nfrom recon.utils import psnr\nfrom recon.operator.ct_radon import CtRt\nfrom recon.interfaces import Recon, ReconBregman, Smoothing, SmoothBregman\n\nimage = shepp_logan_phantom()\nimage = rescale(image, scale=0.2, mode='reflect', multichannel=False)\nimage = image / np.max(image)\n\nny, nx = image.shape\n\nntheta = 180\ntheta = np.linspace(0., 180, ntheta, endpoint=False)\n\nsigma = 0.03\n\nR = CtRt(image.shape, center=[image.shape[0]//2, image.shape[1]//2], theta=theta)\ny = R*image.ravel()\nn = np.random.normal(0, sigma*np.max(y), size=y.shape)\ny = y + n\n\nx_rec = np.reshape(R.inv*y.ravel(), image.shape)\n\nfig, axs = plt.subplots(1, 3, figsize=(10, 4))\naxs[0].imshow(image, vmin=0, vmax=1, cmap='gray')\naxs[0].set_title('Model')\naxs[0].axis('tight')\naxs[1].imshow(np.reshape(y, R.image_dim), cmap='gray')\naxs[1].set_title('Data')\naxs[1].axis('tight')\naxs[2].imshow(x_rec, cmap='gray')\naxs[2].set_title(\"Reconstruction - PSNR: \"+str(psnr(image, x_rec)))\naxs[2].axis('tight')\nfig.tight_layout()\n\nplt.show()"
      ]
    },
    {
      "cell_type": "markdown",
      "metadata": {},
      "source": [
        "Similar to the Smoothing Tutorial a saddle point problem between\ndata fidelity and regularization is solved. For this purpose the Radon\noperator is simply passed to the data term. The Recon interface takes care\nof everything for the user.\nWe add a quick comparison to the solution that arises\nwhen one should first reconstruct and then regularize.\n\n"
      ]
    },
    {
      "cell_type": "code",
      "execution_count": null,
      "metadata": {
        "collapsed": false
      },
      "outputs": [],
      "source": [
        "rec = Recon(operator=R, domain_shape=(ny, nx), reg_mode='tv', alpha=0.05, lam=1, tau='calc')\nx_tv = rec.solve(data=y.ravel(), max_iter=1000, tol=1e-5)\n\nsmooth = Smoothing(domain_shape=image.shape, reg_mode='tv', alpha=0.05, lam=1, tau='calc')\nx_succession = smooth.solve(R.inv*y.ravel(), max_iter=1000, tol=1e-4)\n\n\nfig, axs = plt.subplots(1, 3, figsize=(10, 4))\naxs[0].imshow(image, vmin=0, vmax=1, cmap='gray')\naxs[0].set_title('Model')\naxs[0].axis('tight')\naxs[1].imshow(np.reshape(x_tv, R.domain_dim), vmin=0, vmax=1, cmap='gray')\naxs[1].set_title('TV-Recon - PSNR:'+str(psnr(image, x_tv)))\naxs[1].axis('tight')\naxs[2].imshow(np.reshape(x_succession, R.domain_dim), vmin=0, vmax=1, cmap='gray')\naxs[2].set_title(\"Smooth $R^{-1}$*y - PSNR: \"+str(psnr(image, x_succession)))\naxs[2].axis('tight')\nfig.tight_layout()\n\nplt.show()"
      ]
    },
    {
      "cell_type": "markdown",
      "metadata": {},
      "source": [
        "Bregman versions\n\n"
      ]
    },
    {
      "cell_type": "code",
      "execution_count": null,
      "metadata": {
        "collapsed": false
      },
      "outputs": [],
      "source": [
        "rec = ReconBregman(operator=R,\n                   domain_shape=image.shape,\n                   reg_mode='tv',\n                   alpha=0.6,\n                   lam=1,\n                   assessment=sigma*np.max(y)*np.sqrt(np.prod(n.shape)),\n                   tau='calc')\nbreg_tv = rec.solve(data=y.ravel(), max_iter=1000, tol=1e-4)\n\nbreg_smoothing = SmoothBregman(domain_shape=image.shape,\n                               reg_mode='tv',\n                               alpha=0.6,\n                               lam=1,\n                               tau='calc',\n                               plot_iteration=False,\n                               assessment=np.linalg.norm(R.inv*n.ravel(), 2))\n\nu_breg = breg_smoothing.solve(data=R.inv*y.ravel(), max_iter=1000, tol=1e-4)\n\nfig, axs = plt.subplots(1, 3, figsize=(10, 4))\naxs[0].imshow(image, vmin=0, vmax=1, cmap='gray')\naxs[0].set_title('Model')\naxs[0].axis('tight')\naxs[1].imshow(np.reshape(breg_tv, R.domain_dim), vmin=0, vmax=1, cmap='gray')\naxs[1].set_title('TV-Breg - PSNR:'+str(psnr(image, breg_tv)))\naxs[1].axis('tight')\naxs[2].imshow(np.reshape(u_breg, R.domain_dim), vmin=0, vmax=1, cmap='gray')\naxs[2].set_title(\"Breg $R^{-1}$*y - PSNR: \"+str(psnr(image, u_breg)))\naxs[2].axis('tight')\nfig.tight_layout()\n\nplt.show()"
      ]
    },
    {
      "cell_type": "markdown",
      "metadata": {},
      "source": [
        "Conclusion\nFurther tests will follow. It seems that the L2 standard is not the best\nchoice for the radon-sinogram space.\n... -> test L1-Norm\n"
      ]
    }
  ],
  "metadata": {
    "kernelspec": {
      "display_name": "Python 3",
      "language": "python",
      "name": "python3"
    },
    "language_info": {
      "codemirror_mode": {
        "name": "ipython",
        "version": 3
      },
      "file_extension": ".py",
      "mimetype": "text/x-python",
      "name": "python",
      "nbconvert_exporter": "python",
      "pygments_lexer": "ipython3",
      "version": "3.7.6"
    }
  },
  "nbformat": 4,
  "nbformat_minor": 0
}