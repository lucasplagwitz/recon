{
  "cells": [
    {
      "cell_type": "code",
      "execution_count": null,
      "metadata": {
        "collapsed": false
      },
      "outputs": [],
      "source": [
        "%matplotlib inline"
      ]
    },
    {
      "cell_type": "markdown",
      "metadata": {},
      "source": [
        "\n# 05. Spatially Adapted Total Variation\n\nHere a locally adapted regularization is shown.\nFor this purpose the SATV algorithm was implemented.\nThe application and the nurzen are shown.\nFurthermore, TV is compared with TGV in the context of the local regularization.\n"
      ]
    },
    {
      "cell_type": "code",
      "execution_count": null,
      "metadata": {
        "collapsed": false
      },
      "outputs": [],
      "source": [
        "import numpy as np\nimport matplotlib.pyplot as plt\nfrom recon.utils.utils import psnr\nfrom recon.utils.images import local_tss\nfrom recon.interfaces import SATV, Smoothing\n\nimage = local_tss()\n\nnoise_sigma = 0.2*np.max(image)\n\nnoisy_image = image + np.random.normal(0, noise_sigma, size=image.shape)\n\n# TV smoothing small alpha\ntv_smoothing = Smoothing(domain_shape=image.shape, reg_mode='tv', alpha=0.3, lam=1)\nu_tv = tv_smoothing.solve(data=noisy_image, max_iter=5000, tol=1e-4)\n\n\nf = plt.figure(figsize=(6, 3))\nf.add_subplot(1, 2, 1)\nplt.axis('off')\nplt.gray()\nplt.imshow(image, vmin=0, vmax=np.max(image))\nplt.title(\"GT - PSNR: \"+str(psnr(image, image)))\nf.add_subplot(1, 2, 2)\nplt.imshow(u_tv, vmin=0, vmax=np.max(image))\nplt.title(\"TV - PSNR: \"+str(psnr(image, u_tv)))\nplt.axis('off')\nplt.gray()\nplt.show(block=False)"
      ]
    },
    {
      "cell_type": "markdown",
      "metadata": {},
      "source": [
        "...\n\n"
      ]
    },
    {
      "cell_type": "code",
      "execution_count": null,
      "metadata": {
        "collapsed": false
      },
      "outputs": [],
      "source": [
        "satv_obj = SATV(domain_shape=image.shape,\n                reg_mode='tv',\n                lam=0.3,\n                alpha=0.3,\n                plot_iteration=False,\n                noise_sigma=noise_sigma,\n                assessment=noise_sigma*np.sqrt(np.prod(image.shape)))\nsatv_solution = satv_obj.solve(noisy_image, max_iter=5000, tol=1e-4)\n\nf = plt.figure(figsize=(9, 3))\nf.add_subplot(1, 3, 1)\nplt.gray()\nplt.axis('off')\nplt.imshow(noisy_image, vmin=0, vmax=np.max(image))\nplt.title(\"Noisy - PSNR: \"+str(psnr(image, noisy_image)))\nf.add_subplot(1, 3, 2)\nplt.gray()\nplt.imshow(satv_solution, vmin=0, vmax=np.max(image))\nplt.title(\"SATV - PSNR: \"+str(psnr(image, satv_solution)))\nplt.axis('off')\nf.add_subplot(1, 3, 3)\nplt.gray()\nplt.imshow(np.reshape(satv_obj.lam, image.shape))\nplt.title(\"SATV-weight $\\lambda$\")\nplt.axis('off')\nplt.show()"
      ]
    },
    {
      "cell_type": "markdown",
      "metadata": {},
      "source": [
        "...\n\n"
      ]
    },
    {
      "cell_type": "code",
      "execution_count": null,
      "metadata": {
        "collapsed": false
      },
      "outputs": [],
      "source": [
        "lam = 0.3\nsatv_obj = SATV(domain_shape=image.shape,\n                reg_mode='tgv',\n                lam=lam,\n                plot_iteration=False,\n                tau='auto',\n                alpha=(0.3, 0.6),\n                noise_sigma=noise_sigma,\n                assessment=noise_sigma*np.sqrt(np.prod(image.shape)))\nsatv_solution = satv_obj.solve(noisy_image, max_iter=5000, tol=1e-4)\n\nf = plt.figure(figsize=(9, 3))\nf.add_subplot(1, 3, 1)\nplt.gray()\nplt.axis('off')\nplt.imshow(noisy_image, vmin=0, vmax=np.max(image))\nplt.title(\"Noisy - PSNR: \"+str(psnr(image, noisy_image)))\nf.add_subplot(1, 3, 2)\nplt.gray()\nplt.imshow(satv_solution, vmin=0, vmax=np.max(image))\nplt.title(\"SATGV - PSNR: \"+str(psnr(image, satv_solution)))\nplt.axis('off')\nf.add_subplot(1, 3, 3)\nplt.gray()\nplt.imshow(np.reshape(satv_obj.lam, image.shape))\nplt.title(\"SATGV-weight $\\lambda$\")\nplt.axis('off')\nplt.show()"
      ]
    }
  ],
  "metadata": {
    "kernelspec": {
      "display_name": "Python 3",
      "language": "python",
      "name": "python3"
    },
    "language_info": {
      "codemirror_mode": {
        "name": "ipython",
        "version": 3
      },
      "file_extension": ".py",
      "mimetype": "text/x-python",
      "name": "python",
      "nbconvert_exporter": "python",
      "pygments_lexer": "ipython3",
      "version": "3.7.6"
    }
  },
  "nbformat": 4,
  "nbformat_minor": 0
}