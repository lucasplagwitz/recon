{
  "cells": [
    {
      "cell_type": "code",
      "execution_count": null,
      "metadata": {
        "collapsed": false
      },
      "outputs": [],
      "source": [
        "%matplotlib inline"
      ]
    },
    {
      "cell_type": "markdown",
      "metadata": {},
      "source": [
        "\n# 03. Reconstruction II\nConvolution\n\nIN PROGRESS\n"
      ]
    },
    {
      "cell_type": "code",
      "execution_count": null,
      "metadata": {
        "collapsed": false
      },
      "outputs": [],
      "source": [
        "from pylops import Gradient\n\nfrom recon.terms import BaseDataterm, IndicatorL2\nfrom recon.solver import PdHgm\nimport matplotlib.pyplot as plt\nfrom typing import Union\nimport skimage.data as skd\nfrom scipy.fftpack import fft2, ifft2\nfrom recon.utils import psnr\n\nimport numpy as np\n\n\ndef rgb2gray(rgb):\n\n    r, g, b = rgb[:,:,0], rgb[:,:,1], rgb[:,:,2]\n    gray = 0.2989 * r + 0.5870 * g + 0.1140 * b\n\n    return gray\n\n\ngt = rgb2gray(skd.coffee())[:,80:481]\ngt = gt/np.max(gt)\nsh = gt.shape\na = gt\n\nsize = 20\nkernel_motion_blur = np.zeros((size, size))\nkernel_motion_blur[int((size-1)/2), :] = np.ones(size)\nkernel_motion_blur = kernel_motion_blur / size\nh = kernel_motion_blur\nkernel = h\n\n\ndef fftconvolve2d(x, y):\n    # This assumes y is \"smaller\" than x.\n    f2 = ifft2(fft2(x, shape=x.shape) * fft2(y, shape=x.shape)).real\n    f2 = np.roll(f2, (-((y.shape[0] - 1)//2), -((y.shape[1] - 1)//2)), axis=(0, 1))\n    return f2\n\n\nf2 = fftconvolve2d(a, kernel)\nf2 = f2 + np.random.normal(0, 0.01, size=f2.shape)\n\nback = np.roll(f2, (((kernel.shape[0] - 1)//2), ((kernel.shape[1] - 1)//2)), axis=(0, 1))\nback = fft2(back, shape=back.shape)\n\n\nclass DatanormL2Conv(BaseDataterm):\n\n\n    def __init__(self,\n                 image_size,\n                 cop,\n                 data: Union[float, np.ndarray] = 0,\n                 lam: float = 1,\n                 prox_param: float = 0.9,\n                 sampling=None):\n\n        operator = lambda x: fft2(x, shape=a.shape)\n        super(DatanormL2Conv, self).__init__(operator, sampling=sampling, prox_param=prox_param)\n        self.lam = lam\n        self.data = data\n        self.f_data = fft2(kernel, shape=a.shape)\n        self.f_datah = fft2(kernel, shape=a.shape)\n        self.inv_operator = lambda x: ifft2(x).real\n        self.i = 0\n\n    def prox(self, x):\n        \"\"\"Proximal Operator.\"\"\"\n        self.i += 1\n        u = self.inv_operator(\n                (self.operator(np.reshape(x, gt.shape)) + self.prox_param * self.lam *\n                 (back) * self.f_data.conjugate()) / (1 + self.prox_param * self.lam *\n                                                      self.diag_sampling * self.f_data*self.f_data.conjugate())\n            )\n\n        return u.ravel()\n\n\nK = Gradient(gt.shape, edge=True, dtype='float64', kind='backward', sampling=1)\nnorm = np.abs(np.asscalar((K.H*K).eigs(neigs=1, symmetric=True, largest=True, uselobpcg=True)))\nfac = 0.99\ntau = fac * np.sqrt(1 / norm)\nprint(tau)\nG = DatanormL2Conv(image_size=gt.shape, cop=kernel, data=f2, prox_param=tau, lam=100)\nF_star = IndicatorL2(gt.shape, len(sh), prox_param=tau, upper_bound=1)\n\nsolver = PdHgm(K, F_star, G)\nsolver.max_iter = 3000\nsolver.tol = 1e-4\nc = np.real(solver.solve())\nx_tv = np.reshape(c, gt.shape)\n\n\n# Proximal point algorithm for minimum norm solution.\nx_old = np.zeros(gt.shape)\nG = DatanormL2Conv(image_size=gt.shape, cop=kernel, data=f2, prox_param=tau, lam=1)\ni = 0\nwhile True:\n    x_new = np.reshape(G.prox(x_old.ravel()), gt.shape)\n    if i % 500 == 0:\n        if np.linalg.norm(x_old.ravel()-x_new.ravel())/np.linalg.norm(x_new.ravel()) < 1e-4:\n            break\n        print(np.linalg.norm(x_old.ravel()-x_new.ravel())/np.linalg.norm(x_new.ravel()))\n    x_old = x_new\n    i += 1\n\nfig, axs = plt.subplots(1, 3, figsize=(14, 5))\naxs[0].imshow(np.reshape(f2, gt.shape), vmin=0, vmax=1)\naxs[0].set_title('Degraded')\naxs[0].axis('off')\naxs[1].imshow(x_new)\naxs[1].set_title('Minimum-Norm')\naxs[1].axis('off')\naxs[2].imshow(x_tv, vmin=0, vmax=1)\naxs[2].set_title(\"TV-Recon\")\naxs[2].axis('off')\nfig.tight_layout()\nplt.show()\n\nprint(\"PSNR Noise: \" + str(psnr(gt.ravel(), f2.ravel())))\nprint(\"PSNR Minimum-Norm: \" + str(psnr(gt.ravel(), x_new.ravel())))\nprint(\"PSNR TV-Recon: \" + str(psnr(gt.ravel(), x_tv.ravel())))\nprint(\"MAE Noise: \" + str(np.sum(np.abs(f2-gt))/np.prod(gt.shape)))\nprint(\"MAE Minimum-Norm: \" + str(np.sum(np.abs(f2-x_new))/np.prod(gt.shape)))\nprint(\"MAE TV-Recon: \" + str(np.sum(np.abs(f2-x_tv))/np.prod(gt.shape)))"
      ]
    }
  ],
  "metadata": {
    "kernelspec": {
      "display_name": "Python 3",
      "language": "python",
      "name": "python3"
    },
    "language_info": {
      "codemirror_mode": {
        "name": "ipython",
        "version": 3
      },
      "file_extension": ".py",
      "mimetype": "text/x-python",
      "name": "python",
      "nbconvert_exporter": "python",
      "pygments_lexer": "ipython3",
      "version": "3.7.9"
    }
  },
  "nbformat": 4,
  "nbformat_minor": 0
}