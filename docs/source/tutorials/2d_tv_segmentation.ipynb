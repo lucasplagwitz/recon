{
  "cells": [
    {
      "cell_type": "code",
      "execution_count": null,
      "metadata": {
        "collapsed": false
      },
      "outputs": [],
      "source": [
        "%matplotlib inline"
      ]
    },
    {
      "cell_type": "markdown",
      "metadata": {},
      "source": [
        "\n# 03. Segmentation\nThis example shows how to use the interface for class-based segmentation\nof 2D images. First, depending on the size of the weighting alpha,\na piecewise constant image is generated before the assignment to certain classes is done.\n"
      ]
    },
    {
      "cell_type": "markdown",
      "metadata": {},
      "source": [
        "TV based segmentation\n\n"
      ]
    },
    {
      "cell_type": "code",
      "execution_count": null,
      "metadata": {
        "collapsed": false
      },
      "outputs": [],
      "source": [
        "import skimage.data as skd\nimport numpy as np\nimport matplotlib.pyplot as plt\n\nfrom recon.interfaces import Segmentation\n\ndef rgb2gray(rgb):\n    r, g, b = rgb[:,:,0], rgb[:,:,1], rgb[:,:,2]\n    gray = 0.2989 * r + 0.5870 * g + 0.1140 * b\n    return gray\n\ngt = rgb2gray(skd.coffee())[:,80:481]\ngt = gt/np.max(gt)\ngt = gt/np.max(gt)\n\nclasses = [0, 50/255, 120/255, 190/255, 220/255]\n\nsegmentation = Segmentation(gt.shape, classes=classes, lam=5, tau='calc')\nresult, _ = segmentation.solve(gt, max_iter=4000)\n\nf = plt.figure(figsize=(6, 3))\nf.add_subplot(1, 2, 1)\nplt.axis('off')\nplt.imshow(gt)\nplt.title(\"GT\")\nf.add_subplot(1, 2, 2)\nplt.imshow(result)\nplt.title(\"TV-based segmentation\")\nplt.axis('off')\nplt.show(block=False)"
      ]
    }
  ],
  "metadata": {
    "kernelspec": {
      "display_name": "Python 3",
      "language": "python",
      "name": "python3"
    },
    "language_info": {
      "codemirror_mode": {
        "name": "ipython",
        "version": 3
      },
      "file_extension": ".py",
      "mimetype": "text/x-python",
      "name": "python",
      "nbconvert_exporter": "python",
      "pygments_lexer": "ipython3",
      "version": "3.7.9"
    }
  },
  "nbformat": 4,
  "nbformat_minor": 0
}