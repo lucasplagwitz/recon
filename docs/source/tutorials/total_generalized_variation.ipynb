{
  "cells": [
    {
      "cell_type": "code",
      "execution_count": null,
      "metadata": {
        "collapsed": false
      },
      "outputs": [],
      "source": [
        "%matplotlib inline"
      ]
    },
    {
      "cell_type": "markdown",
      "metadata": {},
      "source": [
        "\n# 04. Total Generalized Variation\nNow we take a step deeper into Total Variation based regularization.\n\nWe focus on concepts from different papers.\nMainly we use for numerical access:\n    Knoll, Bredis, Pock: Second Order Total Generalized Variation (TGV) for MRI\n"
      ]
    },
    {
      "cell_type": "markdown",
      "metadata": {},
      "source": [
        "The first order Total Variation got some problems with smooth edges.\nSee following noisy example with the TV-Regularization.\n\n"
      ]
    },
    {
      "cell_type": "code",
      "execution_count": null,
      "metadata": {
        "collapsed": false
      },
      "outputs": [],
      "source": [
        "import numpy as np\nimport matplotlib.pyplot as plt\n\nfrom recon.utils import psnr\nfrom recon.utils.images import two_smooth_squares\nfrom recon.interfaces import Smoothing, SmoothBregman\n\nimage = two_smooth_squares(256, 128)\nnoise_image = image + np.random.normal(0, 0.2*np.max(image), size=image.shape)\n\ntv_denoising = Smoothing(domain_shape=image.shape, reg_mode='tv', lam=0.3, alpha=0.1, tau='calc')\ntv_solution = tv_denoising.solve(noise_image, max_iter=2000, tol=1e-4)\n\nf = plt.figure(figsize=(6, 3))\nf.add_subplot(1, 2, 1)\nplt.gray()\nplt.axis('off')\nplt.imshow(noise_image, vmin=0, vmax=np.max(image))\nplt.title(\"Noisy\")\nf.add_subplot(1, 2, 2)\nplt.gray()\nplt.imshow(tv_solution, vmin=0, vmax=np.max(image))\nplt.title(\"TV based denoising\")\nplt.axis('off')\nplt.show()"
      ]
    },
    {
      "cell_type": "markdown",
      "metadata": {},
      "source": [
        "To avoid strong stair-casing effects, we introduce the Total Generalized Variation.\nAt this point there is no interface for second order TV. We implement it direct with the\nadapted Primal-Dual algorithm.\n\n"
      ]
    },
    {
      "cell_type": "code",
      "execution_count": null,
      "metadata": {
        "collapsed": false
      },
      "outputs": [],
      "source": [
        "from recon.solver.pd_hgm_tgv import PdHgmTGV\n\n# TGV smoothing small alpha\nalpha = (0.3, 0.6)\nsolver = PdHgmTGV(alpha=alpha, lam=0.9)\ntgv_solution = np.reshape(solver.solve(noise_image), image.shape)\n\nf = plt.figure(figsize=(9, 3))\nf.add_subplot(1, 3, 1)\nplt.gray()\nplt.axis('off')\nplt.imshow(image, vmin=0, vmax=np.max(image))\nplt.title(\"Original\")\nf.add_subplot(1, 3, 2)\nplt.gray()\nplt.axis('off')\nplt.imshow(tv_solution, vmin=0, vmax=np.max(image))\nplt.title(\"TV based denoising\")\nf.add_subplot(1, 3, 3)\nplt.gray()\nplt.imshow(tgv_solution, vmin=0, vmax=np.max(image))\nplt.title(\"TGV based denoising\")\nplt.axis('off')\nplt.show()"
      ]
    },
    {
      "cell_type": "markdown",
      "metadata": {},
      "source": [
        "Since TGV also represents a convex functional, it can also be extended by Bregman.\nMaybe there will be an interface for this in the future.\n\n"
      ]
    },
    {
      "cell_type": "code",
      "execution_count": null,
      "metadata": {
        "collapsed": false
      },
      "outputs": [],
      "source": [
        "plot_iteration = False\nlam = 0.3\nassessment = 0.2 * np.max(image) * np.sqrt(np.prod(noise_image.shape))\npk = np.zeros(image.shape)\npk = pk.ravel()\ni = 0\n\nu = np.zeros(image.shape)\nwhile True:\n    print(\"current norm error: \" + str(np.linalg.norm(u.ravel() - noise_image.ravel(), 2)))\n    print(\"runs till norm <: \" + str(assessment))\n\n    solver = PdHgmTGV(alpha=alpha, lam=lam, mode='tgv', pk=pk)\n\n    u_new = np.reshape(solver.solve(noise_image), image.shape)\n\n    if np.linalg.norm(u_new.ravel() - noise_image.ravel(), 2) < assessment:\n        break\n\n    u = u_new\n    pk = pk - lam / alpha[0] * (u.ravel() - noise_image.ravel())\n    i = i + 1\n\n    if plot_iteration:\n        plt.gray()\n        plt.imshow(u)\n        plt.axis('off')\n        plt.savefig('Bregman_TGV_iter' + str(i) + '.png', bbox_inches='tight', pad_inches=0)\n        plt.close()"
      ]
    },
    {
      "cell_type": "markdown",
      "metadata": {},
      "source": [
        "Compare it to normal BTV\n\n"
      ]
    },
    {
      "cell_type": "code",
      "execution_count": null,
      "metadata": {
        "collapsed": false
      },
      "outputs": [],
      "source": [
        "breg_smoothing = SmoothBregman(domain_shape=image.shape,\n                               reg_mode='tv',\n                               alpha=1,\n                               lam=0.5,\n                               tau='calc',\n                               plot_iteration=False,\n                               assessment=assessment)\n\nu_breg = breg_smoothing.solve(data=noise_image, max_iter=2000, tol=1e-4)\n\n\nf = plt.figure(figsize=(9, 3))\nf.add_subplot(1, 3, 1)\nplt.gray()\nplt.axis('off')\nplt.imshow(image, vmin=0, vmax=np.max(image))\nplt.title(\"Original\")\nf.add_subplot(1, 3, 2)\nplt.gray()\nplt.axis('off')\nplt.imshow(np.reshape(u_breg, image.shape), vmin=0, vmax=np.max(image))\nplt.title(\"BTV \")\nf.add_subplot(1, 3, 3)\nplt.gray()\nplt.imshow(np.reshape(u_new, image.shape), vmin=0, vmax=np.max(image))\nplt.title(\"BTGV\")\nplt.axis('off')\nplt.show()\n\nprint(\"TV-PSNR: \"+str(psnr(image, tv_solution)))\nprint(\"TGV-PSNR: \"+str(psnr(image, tgv_solution)))\nprint(\"BTV-PSNR: \"+str(psnr(image, u_breg)))\nprint(\"BTGV-PSNR: \"+str(psnr(image, u_new)))"
      ]
    }
  ],
  "metadata": {
    "kernelspec": {
      "display_name": "Python 3",
      "language": "python",
      "name": "python3"
    },
    "language_info": {
      "codemirror_mode": {
        "name": "ipython",
        "version": 3
      },
      "file_extension": ".py",
      "mimetype": "text/x-python",
      "name": "python",
      "nbconvert_exporter": "python",
      "pygments_lexer": "ipython3",
      "version": "3.7.9"
    }
  },
  "nbformat": 4,
  "nbformat_minor": 0
}