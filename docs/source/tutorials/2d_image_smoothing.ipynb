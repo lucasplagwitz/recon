{
  "cells": [
    {
      "cell_type": "code",
      "execution_count": null,
      "metadata": {
        "collapsed": false
      },
      "outputs": [],
      "source": [
        "%matplotlib inline"
      ]
    },
    {
      "cell_type": "markdown",
      "metadata": {},
      "source": [
        "\n# 01. Denoising\nThis example shows image smoothing on an image with normal distributed noise.\n"
      ]
    },
    {
      "cell_type": "markdown",
      "metadata": {},
      "source": [
        "We create a scenario with a scaled demo image to\nwhich normally distributed noise with standard\ndeviation of 0.2 is added.\n\n"
      ]
    },
    {
      "cell_type": "code",
      "execution_count": null,
      "metadata": {
        "collapsed": false
      },
      "outputs": [],
      "source": [
        "import matplotlib.pyplot as plt\nimport numpy as np\nfrom scipy import misc\nfrom recon.utils.utils import psnr\n\nfrom recon.interfaces import Smoothing, SmoothBregman\n\nimg = misc.ascent()\nimg = img/np.max(img)\ngt = img\n\nvmin, vmax = 0, 1\n\n# create noisy image\nsigma = 0.2 * vmax\nn = np.random.normal(0, sigma, gt.shape)\nnoise_img = gt + n\n\nf = plt.figure(figsize=(6, 3))\nplt.gray()\nf.add_subplot(1,2, 1)\nplt.title(\"GT - PSNR: \"+str(psnr(gt, gt)))\nplt.axis('off')\nplt.imshow(gt, vmin=vmin, vmax=vmax)\nf.add_subplot(1, 2, 2)\nplt.gray()\nplt.title(\"Noisy - PSNR: \"+str(psnr(gt, noise_img)))\nplt.imshow(noise_img, vmin=vmin, vmax=vmax)\nplt.axis('off')\nplt.show(block=False)"
      ]
    },
    {
      "cell_type": "markdown",
      "metadata": {},
      "source": [
        "TV-Regularization and Tikhonov\nBasically the problem here consists of two parts.\nThe data term and the regularization term.\nWhile we use the L2 norm to measure the proximity\nbetween the image and the original solution, the regularization\nterm measures the property of the solution. In our case we distinguish\nbetween TV and Tikhonov.\nTV is called the L1 norm of the gradient of the solution here,\nwhile Tikhonov represents the L2 norm. Overall, TV should preserve\nthe edges better, because larger jumps are not penalized more.\n\n\n"
      ]
    },
    {
      "cell_type": "code",
      "execution_count": null,
      "metadata": {
        "collapsed": false
      },
      "outputs": [],
      "source": [
        "# TV smoothing small alpha\ntv_smoothing = Smoothing(domain_shape=gt.shape, reg_mode='tv', lam=3, tau='calc')\nu_tv = tv_smoothing.solve(data=noise_img, max_iter=3000, tol=1e-4)\n\n# Tikhonov smoothing -> with lam = 1 => alpha > 1 we decrease lam instead.\ntikh_smoothing = Smoothing(domain_shape=gt.shape, reg_mode='tikhonov', lam=0.1, tau='calc')\nu_tik = tikh_smoothing.solve(data=noise_img, max_iter=3000, tol=1e-4)\n\nf = plt.figure(figsize=(6, 3))\nf.add_subplot(1, 2, 1)\nplt.axis('off')\nplt.gray()\nplt.imshow(u_tik, vmin=vmin, vmax=vmax)\nplt.title(\"Tikhonov - PSNR: \"+str(psnr(gt, u_tik)))\nf.add_subplot(1, 2, 2)\nplt.imshow(u_tv, vmin=vmin, vmax=vmax)\nplt.title(\"TV - PSNR: \"+str(psnr(gt, u_tv)))\nplt.axis('off')\nplt.gray()\nplt.show(block=False)"
      ]
    },
    {
      "cell_type": "markdown",
      "metadata": {},
      "source": [
        "1D compare with [gt, noise, tikhonov, tv]\n\n"
      ]
    },
    {
      "cell_type": "code",
      "execution_count": null,
      "metadata": {
        "collapsed": false
      },
      "outputs": [],
      "source": [
        "x_min = 84\nx_max = 155\ny = 20\nplt.plot(range(x_min, x_max), gt[x_min:x_max,y], color=\"black\", label=\"GT\")\nplt.plot(range(x_min, x_max), u_tik[x_min:x_max,y], color=\"blue\", label=\"Tikhonov\")\nplt.plot(range(x_min, x_max), noise_img[x_min:x_max,y], color=\"red\", label=\"Noise\")\nplt.plot(range(x_min, x_max), u_tv[x_min:x_max,y], color=\"green\", label=\"TV\")\nplt.legend(loc=\"lower left\")\nplt.plot(bbox_inches='tight', pad_inches=0)\nplt.show()"
      ]
    },
    {
      "cell_type": "markdown",
      "metadata": {},
      "source": [
        "Bregman Iteration\nIn the Bregman iterations, starting from an over-regularized solution,\nthe noisy image is iterated with reference to the regularization functional (here TV).\nFor further information please refer to future mathematical descriptions.\n\n"
      ]
    },
    {
      "cell_type": "code",
      "execution_count": null,
      "metadata": {
        "collapsed": false
      },
      "outputs": [],
      "source": [
        "breg_smoothing = SmoothBregman(domain_shape=gt.shape,\n                               reg_mode='tv',\n                               lam=1,\n                               tau='calc',\n                               plot_iteration=False,\n                               assessment=sigma * np.sqrt(np.prod(gt.shape)))\n\nu_breg = breg_smoothing.solve(data=noise_img, max_iter=2000, tol=1e-4)\n\nf = plt.figure(figsize=(6, 3))\nf.add_subplot(1, 2, 1)\nplt.axis('off')\nplt.gray()\nplt.imshow(u_tv, vmin=vmin, vmax=vmax)\nplt.title(\"TV - PSNR: \"+str(psnr(gt, u_tv)))\nf.add_subplot(1, 2, 2)\nplt.imshow(u_breg, vmin=vmin, vmax=vmax)\nplt.title(\"TV-Breg - PSNR: \"+str(psnr(gt, u_breg)))\nplt.axis('off')\nplt.gray()\nplt.show(block=False)"
      ]
    },
    {
      "cell_type": "markdown",
      "metadata": {},
      "source": [
        "1d comparisson with [gt, noise, bregman_tv, tv, tikhonov]\n\n"
      ]
    },
    {
      "cell_type": "code",
      "execution_count": null,
      "metadata": {
        "collapsed": false
      },
      "outputs": [],
      "source": [
        "x_min = 84\nx_max = 155\ny = 20\nplt.plot(range(x_min, x_max), u_tik[x_min:x_max,y], color=\"darkcyan\", label=\"Tikhonov\")\nplt.plot(range(x_min, x_max), noise_img[x_min:x_max,y], color=\"red\", label=\"Noise\")\nplt.plot(range(x_min, x_max), u_tv[x_min:x_max,y], color=\"green\", label=\"TV\")\nplt.plot(range(x_min, x_max), gt[x_min:x_max,y], color=\"black\", label=\"GT\")\nplt.plot(range(x_min, x_max), u_breg[x_min:x_max,y], color=\"blue\", label=\"BregTV\")\nplt.legend(loc=\"lower left\")\nplt.show()"
      ]
    }
  ],
  "metadata": {
    "kernelspec": {
      "display_name": "Python 3",
      "language": "python",
      "name": "python3"
    },
    "language_info": {
      "codemirror_mode": {
        "name": "ipython",
        "version": 3
      },
      "file_extension": ".py",
      "mimetype": "text/x-python",
      "name": "python",
      "nbconvert_exporter": "python",
      "pygments_lexer": "ipython3",
      "version": "3.7.9"
    }
  },
  "nbformat": 4,
  "nbformat_minor": 0
}