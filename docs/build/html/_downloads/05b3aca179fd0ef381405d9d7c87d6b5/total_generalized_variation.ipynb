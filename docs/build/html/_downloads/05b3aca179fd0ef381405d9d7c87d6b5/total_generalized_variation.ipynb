{
  "cells": [
    {
      "cell_type": "code",
      "execution_count": null,
      "metadata": {
        "collapsed": false
      },
      "outputs": [],
      "source": [
        "%matplotlib inline"
      ]
    },
    {
      "cell_type": "markdown",
      "metadata": {},
      "source": [
        "\n# 04. Total Generalized Variation\nNow we take a step deeper into Total Variation based regularization.\n\nWe focus on concepts from different papers.\nMainly we use for numerical access:\n    Knoll, Bredis, Pock: Second Order Total Generalized Variation (TGV) for MRI\n"
      ]
    },
    {
      "cell_type": "markdown",
      "metadata": {},
      "source": [
        "The first order Total Variation got some problems with smooth edges.\nSee following noisy example with the TV-Regularization.\n\n"
      ]
    },
    {
      "cell_type": "code",
      "execution_count": null,
      "metadata": {
        "collapsed": false
      },
      "outputs": [],
      "source": [
        "import numpy as np\nimport matplotlib.pyplot as plt\nimport os\nimport skimage\nfrom skimage import io\n\nfrom recon.interfaces import Smoothing\nsize = 512\nsmall_size = 360\n#very_small_size = 150\n\n# build image\nimage = np.reshape(np.array([(x/size) for x in range(size)]*size), (size, size))\nimage[40:small_size+40, 40:small_size+40] = \\\n    np.reshape(np.array([(1-x/small_size)for x in range(small_size)]*small_size), (small_size, small_size))\nimage[120:125, 100:120] = 1\nimage[100:120, 120:125] = 1\nimage *= 255\n#image[140:140+very_small_size, 140:140+very_small_size] = \\\n#np.reshape(np.array([(x/very_small_size)for x in range(very_small_size)]*very_small_size), (very_small_size, very_small_size))\nfilename = os.path.join(skimage.data_dir, 'camera.png')\n#image = io.imread(filename)\n#image = image[128:384, 128:384]\n#image = image/np.max(image)*255\n\n\nnoise_image = image + np.random.normal(0, 0.2*np.max(image), size=image.shape)\n\ntv_denoising = Smoothing(domain_shape=image.shape, reg_mode='tv', lam=0.005, alpha=1)\ntv_solution = tv_denoising.solve(noise_image, max_iter=500)\n\nf = plt.figure(figsize=(6, 3))\nf.add_subplot(1, 2, 1)\nplt.gray()\nplt.axis('off')\nplt.imshow(noise_image, vmin=0, vmax=np.max(image))\nplt.title(\"Noisy\")\nf.add_subplot(1, 2, 2)\nplt.gray()\nplt.imshow(tv_solution, vmin=0, vmax=np.max(image))\nplt.title(\"TV based denoising\")\nplt.axis('off')\nplt.show()"
      ]
    },
    {
      "cell_type": "markdown",
      "metadata": {},
      "source": [
        "To avoid strong stair-casing effects, we introduce the Total Generalized Variation.\nAt this point there is no interface for second order TV. We implement it direct with the\nadapted Primal-Dual algorithm.\n\n"
      ]
    },
    {
      "cell_type": "code",
      "execution_count": null,
      "metadata": {
        "collapsed": false
      },
      "outputs": [],
      "source": [
        "from recon.solver.pd_hgm_extend import PdHgmTGV\n\n# TGV smoothing small alpha\nalpha = (1, 2)\nsolver = PdHgmTGV(alpha=alpha, lam=0.005)\ntgv_solution = np.reshape(solver.solve(noise_image), (size, size))\n\nf = plt.figure(figsize=(9, 3))\nf.add_subplot(1, 3, 1)\nplt.gray()\nplt.axis('off')\nplt.imshow(image, vmin=0, vmax=np.max(image))\nplt.title(\"Original\")\nf.add_subplot(1, 3, 2)\nplt.gray()\nplt.axis('off')\nplt.imshow(tv_solution, vmin=0, vmax=np.max(image))\nplt.title(\"TV based denoising\")\nf.add_subplot(1, 3, 3)\nplt.gray()\nplt.imshow(tgv_solution, vmin=0, vmax=np.max(image))\nplt.title(\"TGV based denoising\")\nplt.axis('off')\nplt.show()"
      ]
    }
  ],
  "metadata": {
    "kernelspec": {
      "display_name": "Python 3",
      "language": "python",
      "name": "python3"
    },
    "language_info": {
      "codemirror_mode": {
        "name": "ipython",
        "version": 3
      },
      "file_extension": ".py",
      "mimetype": "text/x-python",
      "name": "python",
      "nbconvert_exporter": "python",
      "pygments_lexer": "ipython3",
      "version": "3.7.6"
    }
  },
  "nbformat": 4,
  "nbformat_minor": 0
}