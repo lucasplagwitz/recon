{
  "cells": [
    {
      "cell_type": "code",
      "execution_count": null,
      "metadata": {
        "collapsed": false
      },
      "outputs": [],
      "source": [
        "%matplotlib inline"
      ]
    },
    {
      "cell_type": "markdown",
      "metadata": {},
      "source": [
        "\n# 01. Smoothing\nThis example ...\n"
      ]
    },
    {
      "cell_type": "markdown",
      "metadata": {},
      "source": [
        "We import ....\n\n"
      ]
    },
    {
      "cell_type": "code",
      "execution_count": null,
      "metadata": {
        "collapsed": false
      },
      "outputs": [],
      "source": [
        "import matplotlib.pyplot as plt\nimport numpy as np\nfrom scipy import misc\n\nfrom recon.interfaces import Smoothing, SmoothBregman\n\nimg = misc.ascent()\nimg = img/np.max(img)\ngt = img\n\nvmin, vmax = 0, 1\n\n# create noisy image\nsigma = 0.2\nn = np.random.normal(0, sigma, gt.shape)\nnoise_img = gt + n\n\nf = plt.figure(figsize=(6, 3))\nplt.gray()\nf.add_subplot(1,2, 1)\nplt.title(\"GT\")\nplt.axis('off')\nplt.imshow(gt, vmin=vmin, vmax=vmax)\nf.add_subplot(1, 2, 2)\nplt.gray()\nplt.title(\"Noisy\")\nplt.imshow(noise_img, vmin=vmin, vmax=vmax)\nplt.axis('off')\nplt.show(block=False)"
      ]
    },
    {
      "cell_type": "markdown",
      "metadata": {},
      "source": [
        "TV-Regularization and Tikhonov\n\n\n\n\n"
      ]
    },
    {
      "cell_type": "code",
      "execution_count": null,
      "metadata": {
        "collapsed": false
      },
      "outputs": [],
      "source": [
        "# TV smoothing small alpha\ntv_smoothing = Smoothing(domain_shape=gt.shape, reg_mode='tv', alpha=0.3)\nu_tv = tv_smoothing.solve(data=noise_img, max_iter=450, tol=10**(-5))\n\n# Tikhonov smoothing -> with lam = 1 => alpha > 1 we decrease lam instead.\ntikh_smoothing = Smoothing(domain_shape=gt.shape, reg_mode='tikhonov', lam=0.1, alpha=1, tau=0.1)\nu_tik = tikh_smoothing.solve(data=noise_img, max_iter=450, tol=10**(-5))\n\nf = plt.figure(figsize=(6, 3))\nf.add_subplot(1, 2, 1)\nplt.axis('off')\nplt.gray()\nplt.imshow(u_tik, vmin=vmin, vmax=vmax)\nplt.title(\"Tikhonov\")\nf.add_subplot(1, 2, 2)\nplt.imshow(u_tv, vmin=vmin, vmax=vmax)\nplt.title(\"TV\")\nplt.axis('off')\nplt.gray()\nplt.show(block=False)"
      ]
    },
    {
      "cell_type": "markdown",
      "metadata": {},
      "source": [
        "1D compare with [gt, noise, tikhonov, tv]\n\n"
      ]
    },
    {
      "cell_type": "code",
      "execution_count": null,
      "metadata": {
        "collapsed": false
      },
      "outputs": [],
      "source": [
        "x_min = 84\nx_max = 155\ny = 20\nplt.plot(range(x_min, x_max), gt[x_min:x_max,y], color=\"black\", label=\"GT\")\nplt.plot(range(x_min, x_max), u_tik[x_min:x_max,y], color=\"blue\", label=\"Tikhonov\")\nplt.plot(range(x_min, x_max), noise_img[x_min:x_max,y], color=\"red\", label=\"Noise\")\nplt.plot(range(x_min, x_max), u_tv[x_min:x_max,y], color=\"green\", label=\"TV\")\nplt.legend(loc=\"lower left\")\nplt.plot(bbox_inches='tight', pad_inches=0)\nplt.show()"
      ]
    },
    {
      "cell_type": "markdown",
      "metadata": {},
      "source": [
        "Bregman ... iteration\n\n"
      ]
    },
    {
      "cell_type": "code",
      "execution_count": null,
      "metadata": {
        "collapsed": false
      },
      "outputs": [],
      "source": [
        "breg_smoothing = SmoothBregman(domain_shape=gt.shape,\n                               reg_mode='tv',\n                               alpha=1.1,\n                               lam=1,\n                               tau=0.3,\n                               plot_iteration=False,\n                               assessment=sigma * np.sqrt(np.prod(gt.shape)))\n\nu_breg = breg_smoothing.solve(data=noise_img, max_iter=350, tol=5*10**(-6))\n\nf = plt.figure(figsize=(6, 3))\nf.add_subplot(1, 2, 1)\nplt.axis('off')\nplt.gray()\nplt.imshow(u_tv, vmin=vmin, vmax=vmax)\nplt.title(\"TV\")\nf.add_subplot(1, 2, 2)\nplt.imshow(u_breg, vmin=vmin, vmax=vmax)\nplt.title(\"TV-Bregman\")\nplt.axis('off')\nplt.gray()\nplt.show(block=False)"
      ]
    },
    {
      "cell_type": "markdown",
      "metadata": {},
      "source": [
        "1d comparisson with [gt, noise, bregman_tv, tv, tikhonov]\n\n"
      ]
    },
    {
      "cell_type": "code",
      "execution_count": null,
      "metadata": {
        "collapsed": false
      },
      "outputs": [],
      "source": [
        "x_min = 84\nx_max = 155\ny = 20\nplt.plot(range(x_min, x_max), u_tik[x_min:x_max,y], color=\"darkcyan\", label=\"Tikhonov\")\nplt.plot(range(x_min, x_max), noise_img[x_min:x_max,y], color=\"red\", label=\"Noise\")\nplt.plot(range(x_min, x_max), u_tv[x_min:x_max,y], color=\"green\", label=\"TV\")\nplt.plot(range(x_min, x_max), gt[x_min:x_max,y], color=\"black\", label=\"GT\")\nplt.plot(range(x_min, x_max), u_breg[x_min:x_max,y], color=\"blue\", label=\"BregTV\")\nplt.legend(loc=\"lower left\")\nplt.show()\nplt.close()"
      ]
    }
  ],
  "metadata": {
    "kernelspec": {
      "display_name": "Python 3",
      "language": "python",
      "name": "python3"
    },
    "language_info": {
      "codemirror_mode": {
        "name": "ipython",
        "version": 3
      },
      "file_extension": ".py",
      "mimetype": "text/x-python",
      "name": "python",
      "nbconvert_exporter": "python",
      "pygments_lexer": "ipython3",
      "version": "3.7.6"
    }
  },
  "nbformat": 4,
  "nbformat_minor": 0
}