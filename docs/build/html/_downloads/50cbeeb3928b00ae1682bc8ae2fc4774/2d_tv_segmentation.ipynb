{
  "cells": [
    {
      "cell_type": "code",
      "execution_count": null,
      "metadata": {
        "collapsed": false
      },
      "outputs": [],
      "source": [
        "%matplotlib inline"
      ]
    },
    {
      "cell_type": "markdown",
      "metadata": {},
      "source": [
        "\n# 03. Segmentation\nThis example ...\n"
      ]
    },
    {
      "cell_type": "markdown",
      "metadata": {},
      "source": [
        "We import ....\n\n"
      ]
    },
    {
      "cell_type": "code",
      "execution_count": null,
      "metadata": {
        "collapsed": false
      },
      "outputs": [],
      "source": [
        "import os\nimport skimage\nfrom skimage import io\nimport numpy as np\nimport imageio\nimport matplotlib.pyplot as plt\n\nfrom recon.interfaces import Segmentation\n\nfilename = os.path.join(skimage.data_dir, 'camera.png')\nimage = io.imread(filename, as_gray=True)\n\nimage = image/np.max(image)\n\nclasses = [0, 50/255, 100/255, 160/255, 210/255]\n\n\n\nsegmentation = Segmentation(image.shape, classes=classes, alpha=0.1, tau=3)\nresult, _ = segmentation.solve(image)\n\nplt.Figure()\nplt.imshow(result)\nplt.xlabel('TV based segmentation')\nplt.axis('off')\n#plt.savefig(\"./data/output/2d_tv_segmentation.png\", bbox_inches = 'tight', pad_inches=0)\n#plt.close()"
      ]
    }
  ],
  "metadata": {
    "kernelspec": {
      "display_name": "Python 3",
      "language": "python",
      "name": "python3"
    },
    "language_info": {
      "codemirror_mode": {
        "name": "ipython",
        "version": 3
      },
      "file_extension": ".py",
      "mimetype": "text/x-python",
      "name": "python",
      "nbconvert_exporter": "python",
      "pygments_lexer": "ipython3",
      "version": "3.7.6"
    }
  },
  "nbformat": 4,
  "nbformat_minor": 0
}