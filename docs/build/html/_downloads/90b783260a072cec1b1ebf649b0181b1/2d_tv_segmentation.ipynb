{
  "cells": [
    {
      "cell_type": "code",
      "execution_count": null,
      "metadata": {
        "collapsed": false
      },
      "outputs": [],
      "source": [
        "%matplotlib inline"
      ]
    },
    {
      "cell_type": "markdown",
      "metadata": {},
      "source": [
        "\n# 03. Segmentation\nThis example ...\n"
      ]
    },
    {
      "cell_type": "markdown",
      "metadata": {},
      "source": [
        "TV based segmentation.\n\n"
      ]
    },
    {
      "cell_type": "code",
      "execution_count": null,
      "metadata": {
        "collapsed": false
      },
      "outputs": [],
      "source": [
        "import os\nimport skimage\nfrom skimage import io\nimport numpy as np\nimport matplotlib.pyplot as plt\n\nfrom recon.interfaces import Segmentation\n\nfilename = os.path.join(skimage.data_dir, 'camera.png')\nimage = io.imread(filename, as_gray=True)\n\nimage = image/np.max(image)\n\nclasses = [0, 50/255, 120/255, 190/255, 220/255]\n\nsegmentation = Segmentation(image.shape, classes=classes, alpha=0.1, tau=3)\nresult, _ = segmentation.solve(image)\n\n\nf = plt.figure()\nf.add_subplot(1, 2, 1)\nplt.axis('off')\nplt.imshow(image)\nplt.title(\"GT\")\nf.add_subplot(1, 2, 2)\nplt.imshow(result)\nplt.title(\"TV based segmentation\")\nplt.axis('off')\nplt.show(block=True)"
      ]
    }
  ],
  "metadata": {
    "kernelspec": {
      "display_name": "Python 3",
      "language": "python",
      "name": "python3"
    },
    "language_info": {
      "codemirror_mode": {
        "name": "ipython",
        "version": 3
      },
      "file_extension": ".py",
      "mimetype": "text/x-python",
      "name": "python",
      "nbconvert_exporter": "python",
      "pygments_lexer": "ipython3",
      "version": "3.7.6"
    }
  },
  "nbformat": 4,
  "nbformat_minor": 0
}