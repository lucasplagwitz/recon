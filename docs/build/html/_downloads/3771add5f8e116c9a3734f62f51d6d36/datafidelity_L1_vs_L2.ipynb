{
  "cells": [
    {
      "cell_type": "code",
      "execution_count": null,
      "metadata": {
        "collapsed": false
      },
      "outputs": [],
      "source": [
        "%matplotlib inline"
      ]
    },
    {
      "cell_type": "markdown",
      "metadata": {},
      "source": [
        "\n# 07. L1 vs. L2 Fidelity-Term\nThis tutorial...\n"
      ]
    },
    {
      "cell_type": "code",
      "execution_count": null,
      "metadata": {
        "collapsed": false
      },
      "outputs": [],
      "source": [
        "import numpy as np\nfrom scipy import misc\nimport matplotlib.pyplot as plt\n\nfrom recon.utils.utils import psnr\nfrom recon.interfaces import Smoothing\n\nimg = misc.face(gray=True)[256:768,256:768]\nimg = img/np.max(img)\ngt = img\n\nvmin, vmax = 0, 1\nsigma = 0.2 * vmax\n\n\ndef sp_noise(image):\n    \"\"\"Add salt and pepper noise to image.\"\"\"\n    s_vs_p = 0.5\n    amount = 0.1\n    out = np.copy(image)\n    # Salt mode\n    num_salt = np.ceil(amount * image.size * s_vs_p)\n    coords = [np.random.randint(0, i - 1, int(num_salt))\n              for i in image.shape]\n    out[coords] = 1\n\n    # Pepper mode\n    num_pepper = np.ceil(amount * image.size * (1. - s_vs_p))\n    coords = [np.random.randint(0, i - 1, int(num_pepper))\n              for i in image.shape]\n    out[coords] = 0\n    return out\n\n\nnoise_img_sp = sp_noise(gt)\nnoise_img_white = gt + np.random.normal(0, sigma, size=gt.shape)"
      ]
    },
    {
      "cell_type": "markdown",
      "metadata": {},
      "source": [
        "TV-Regularization and Tikhonov\nBasically the problem here consists of two parts.\nThe data term and the regularization term.\nWhile we use the L2 norm to measure the proximity\nbetween the image and the original solution, the regularization\nterm measures the property of the solution. In our case we distinguish\nbetween TV and Tikhonov.\nTV is called the L1 norm of the gradient of the solution here,\nwhile Tikhonov represents the L2 norm. Overall, TV should preserve\nthe edges better, because larger jumps are not penalized more.\n\n\n"
      ]
    },
    {
      "cell_type": "code",
      "execution_count": null,
      "metadata": {
        "collapsed": false
      },
      "outputs": [],
      "source": [
        "# L1-fidelity\ntv_smoothing = Smoothing(domain_shape=gt.shape, reg_mode='tv', norm='L1', alpha=1, lam=1, tau='calc')\nu_L1_sp = tv_smoothing.solve(data=noise_img_sp, max_iter=2000, tol=1e-4)\n\ntv_smoothing = Smoothing(domain_shape=gt.shape, reg_mode='tv', norm='L1', alpha=0.8, lam=1, tau='calc')\nu_L1_white = tv_smoothing.solve(data=noise_img_white, max_iter=2000, tol=1e-4)\n\n\n# L2-fidelity\ntv_smoothing = Smoothing(domain_shape=gt.shape, reg_mode='tv', norm='L2', alpha=0.1, lam=0.5, tau='calc')\nu_L2_sp = tv_smoothing.solve(data=noise_img_sp, max_iter=2000, tol=1e-4)\n\ntv_smoothing = Smoothing(domain_shape=gt.shape, reg_mode='tv', norm='L2', alpha=0.1, lam=0.6, tau='calc')\nu_L2_white = tv_smoothing.solve(data=noise_img_white, max_iter=2000, tol=1e-4)\n\n# plot\nf = plt.figure(figsize=(9, 6))\n# Salt-And-Pepper\nf.add_subplot(2, 3, 1)\nplt.axis('off')\nplt.gray()\nplt.imshow(noise_img_sp, vmin=vmin, vmax=vmax)\nplt.title(\"S&P-Noise-PSNR: \"+str(psnr(gt, noise_img_sp)))\n\nf.add_subplot(2, 3, 2)\nplt.imshow(u_L1_sp, vmin=vmin, vmax=vmax)\nplt.title(\"L1 - PSNR: \"+str(psnr(gt, u_L1_sp)))\nplt.axis('off')\nplt.gray()\n\nf.add_subplot(2, 3, 3)\nplt.imshow(u_L2_sp, vmin=vmin, vmax=vmax)\nplt.title(\"L2 - PSNR: \"+str(psnr(gt, u_L2_sp)))\nplt.axis('off')\nplt.gray()\n\n# Gaussian\nf.add_subplot(2, 3, 4)\nplt.axis('off')\nplt.gray()\nplt.imshow(noise_img_white, vmin=vmin, vmax=vmax)\nplt.title(\"White-Noise - PSNR: \"+str(psnr(gt, noise_img_white)))\n\nf.add_subplot(2, 3, 5)\nplt.imshow(u_L1_white, vmin=vmin, vmax=vmax)\nplt.title(\"L1 - PSNR: \"+str(psnr(gt, u_L1_white)))\nplt.axis('off')\nplt.gray()\n\nf.add_subplot(2, 3, 6)\nplt.imshow(u_L2_white, vmin=vmin, vmax=vmax)\nplt.title(\"L2 - PSNR: \"+str(psnr(gt, u_L2_white)))\nplt.axis('off')\nplt.gray()\n\nplt.show(block=False)"
      ]
    }
  ],
  "metadata": {
    "kernelspec": {
      "display_name": "Python 3",
      "language": "python",
      "name": "python3"
    },
    "language_info": {
      "codemirror_mode": {
        "name": "ipython",
        "version": 3
      },
      "file_extension": ".py",
      "mimetype": "text/x-python",
      "name": "python",
      "nbconvert_exporter": "python",
      "pygments_lexer": "ipython3",
      "version": "3.7.9"
    }
  },
  "nbformat": 4,
  "nbformat_minor": 0
}