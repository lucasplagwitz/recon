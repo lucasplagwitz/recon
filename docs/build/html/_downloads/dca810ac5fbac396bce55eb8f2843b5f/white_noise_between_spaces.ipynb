{
  "cells": [
    {
      "cell_type": "code",
      "execution_count": null,
      "metadata": {
        "collapsed": false
      },
      "outputs": [],
      "source": [
        "%matplotlib inline"
      ]
    },
    {
      "cell_type": "markdown",
      "metadata": {},
      "source": [
        "\n# 07. White Noise Between Spaces\n\nThis Notebook examines the behavior of noise under linear operators numerically. Lets say for some $u,w \\in H$, $K \\in L(u,w)$ and $\\eta$ some distributed noise:\n\begin{equation}\n    w = Ku \\quad w_\\eta = Ku + \\eta\n\\end{equation}\nIs the bias $\\eta_u = (K^{-1}w- K^{-1}w_\\eta)$ distributed?\n"
      ]
    },
    {
      "cell_type": "markdown",
      "metadata": {},
      "source": [
        "We import ....\n\n"
      ]
    },
    {
      "cell_type": "code",
      "execution_count": null,
      "metadata": {
        "collapsed": false
      },
      "outputs": [],
      "source": [
        "import numpy as np\nfrom scipy import misc\nimport matplotlib.pyplot as plt\n\nfrom recon.operator.ct_radon import CtRt\n\nu = misc.face(gray=True)[256:256*3, 256:256*3]\nu = u/np.max(u)\nplt.imshow(u, cmap=plt.cm.gray)\nplt.show()"
      ]
    },
    {
      "cell_type": "markdown",
      "metadata": {},
      "source": [
        "2\n\n"
      ]
    },
    {
      "cell_type": "code",
      "execution_count": null,
      "metadata": {
        "collapsed": false
      },
      "outputs": [],
      "source": [
        "mu, sigma = 0, 0.1\neta_image = np.random.normal(mu, sigma, u.shape)\nplt.imshow(u+eta_image, cmap=plt.cm.gray)\nplt.show()"
      ]
    },
    {
      "cell_type": "code",
      "execution_count": null,
      "metadata": {
        "collapsed": false
      },
      "outputs": [],
      "source": [
        "count, bins, ignored = plt.hist(eta_image.ravel(), 50, density=True)\nplt.plot(bins, 1/(sigma * np.sqrt(2 * np.pi)) *\n         np.exp( - (bins - mu)**2 / (2 * sigma**2) ),\n         linewidth=2, color='r')\nplt.show()"
      ]
    },
    {
      "cell_type": "markdown",
      "metadata": {},
      "source": [
        "3\n\n"
      ]
    },
    {
      "cell_type": "code",
      "execution_count": null,
      "metadata": {
        "collapsed": false
      },
      "outputs": [],
      "source": [
        "theta = list(np.linspace(0., 180., 180, endpoint=False))\n\nR = CtRt(np.shape(u),\n         np.array([(np.shape(u)[0]/2)+1, (np.shape(u)[0]/2)+1]),\n         theta=theta)\nw = R*u.ravel()\nw0 = R*(u+eta_image).ravel()\neta_w = w-w0\n\ncount, bins, ignored = plt.hist(eta_w.ravel(), 50, density=True)\nplt.show()"
      ]
    },
    {
      "cell_type": "markdown",
      "metadata": {},
      "source": [
        "# Backward\n\n"
      ]
    },
    {
      "cell_type": "code",
      "execution_count": null,
      "metadata": {
        "collapsed": false
      },
      "outputs": [],
      "source": [
        "mu, sigma = 0, 0.01*np.max(w)\neta = np.random.normal(mu, sigma, w.shape)\nw_eta = w + eta\nplt.imshow(np.reshape(R.inv*w_eta.ravel(), u.shape), cmap=plt.cm.gray)\nplt.show()"
      ]
    },
    {
      "cell_type": "code",
      "execution_count": null,
      "metadata": {
        "collapsed": false
      },
      "outputs": [],
      "source": [
        "recon_eta_est = (np.reshape(R.inv*w_eta.ravel(), u.shape)-u).ravel()\ncount, bins, ignored = plt.hist(recon_eta_est, 50, density=True)\nplt.show()"
      ]
    },
    {
      "cell_type": "code",
      "execution_count": null,
      "metadata": {
        "collapsed": false
      },
      "outputs": [],
      "source": [
        "print(\"Backwards-Image-Mean: \"+str(round(np.mean(recon_eta_est), 4)))\nprint(\"Backwards-Image-Sigma: \"+str(round(np.std(recon_eta_est, ddof=1), 4)))"
      ]
    },
    {
      "cell_type": "markdown",
      "metadata": {},
      "source": [
        "# Only Noise\n\n"
      ]
    },
    {
      "cell_type": "code",
      "execution_count": null,
      "metadata": {
        "collapsed": false
      },
      "outputs": [],
      "source": [
        "mu, sigma = 0, 0.01*np.max(w)\neta = np.random.normal(mu, sigma, w.shape)\neta_est = R.inv*eta.ravel()\nsigma_est = np.std(eta_est, ddof=1)\nmu_est = np.mean(eta_est)\ncount, bins, ignored = plt.hist(eta_est, 50, density=True)\nplt.plot(bins, 1/(sigma_est * np.sqrt(2 * np.pi)) *\n         np.exp( - (bins - mu_est)**2 / (2 * sigma_est**2)),\n         linewidth=2, color='r')\nplt.show()\nprint(\"Only-Noise-Recon:Mean: \"+str(round(np.mean(eta_est), 4)))\nprint(\"Only-Noise-Recon-Sigma: \"+str(round(np.std(eta_est, ddof=1), 4)))"
      ]
    },
    {
      "cell_type": "markdown",
      "metadata": {},
      "source": [
        "# Result\n\n"
      ]
    },
    {
      "cell_type": "code",
      "execution_count": null,
      "metadata": {
        "collapsed": false
      },
      "outputs": [],
      "source": [
        "print(\"Mean Difference: \"+str(np.abs(np.mean(eta_est) - np.mean(recon_eta_est))))\nprint(\"Sigma Difference: \"+str(np.abs(np.std(eta_est, ddof=1) - np.std(recon_eta_est, ddof=1))))"
      ]
    },
    {
      "cell_type": "markdown",
      "metadata": {},
      "source": [
        "Therefore for a normal distributed $\\eta \\sim \\mathcal N(0, \\sigma_0)$:\n\\begin{equation}\n    K^{-1}(w+\\eta)-K^{-1}(w) \\sim K^{-1}\\eta \\sim \\mathcal N(0, \\sigma_1)\n\\end{equation}\n\n\\sigma_1 has to be calculated.\n\n"
      ]
    },
    {
      "cell_type": "markdown",
      "metadata": {},
      "source": [
        "# Shape independent\n\n"
      ]
    },
    {
      "cell_type": "code",
      "execution_count": null,
      "metadata": {
        "collapsed": false
      },
      "outputs": [],
      "source": [
        "mu, sigma = 0, 0.01*np.max(w)\nfor shape in [(128, 128), (256, 256), (512, 512)]:\n    R = CtRt(shape,\n             np.array([(shape[0] // 2), (shape[0] // 2)]),\n             theta=theta)\n    eta = np.random.normal(mu, sigma, R.image_dim)\n    eta_est = R.inv*eta.ravel()\n    print(str(shape) + \"-Mean: \"+str(round(np.mean(eta_est), 4)))\n    print(str(shape) +\"-Sigma: \"+str(round(np.std(eta_est, ddof=1),4)))"
      ]
    }
  ],
  "metadata": {
    "kernelspec": {
      "display_name": "Python 3",
      "language": "python",
      "name": "python3"
    },
    "language_info": {
      "codemirror_mode": {
        "name": "ipython",
        "version": 3
      },
      "file_extension": ".py",
      "mimetype": "text/x-python",
      "name": "python",
      "nbconvert_exporter": "python",
      "pygments_lexer": "ipython3",
      "version": "3.7.6"
    }
  },
  "nbformat": 4,
  "nbformat_minor": 0
}