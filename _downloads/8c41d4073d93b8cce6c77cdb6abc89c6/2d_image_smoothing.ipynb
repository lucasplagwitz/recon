{
  "cells": [
    {
      "cell_type": "code",
      "execution_count": null,
      "metadata": {
        "collapsed": false
      },
      "outputs": [],
      "source": [
        "%matplotlib inline"
      ]
    },
    {
      "cell_type": "markdown",
      "metadata": {},
      "source": [
        "\n# 01. Denoising\nThis example shows the denoising of an image with added normally distributed noise.\n"
      ]
    },
    {
      "cell_type": "markdown",
      "metadata": {},
      "source": [
        "We create a scenario with a scaled demo image and\nadd normally distributed noise with standard\ndeviation of 0.2 is added.\n\n"
      ]
    },
    {
      "cell_type": "code",
      "execution_count": null,
      "metadata": {
        "collapsed": false
      },
      "outputs": [],
      "source": [
        "import matplotlib.pyplot as plt\nimport numpy as np\nfrom scipy import misc\n\nfrom recon.utils.utils import psnr\nfrom recon.interfaces import Smoothing, SmoothBregman\n\nimg = misc.ascent()\nimg = img/np.max(img)\ngt = img\n\nvmin, vmax = 0, 1\n\n# create noisy image\nsigma = 0.2 * vmax\nn = np.random.normal(0, sigma, gt.shape)\nnoise_img = gt + n\n\nf = plt.figure(figsize=(8, 4))\nplt.gray()\nf.add_subplot(1, 2, 1)\nplt.title(\"GT - PSNR: \"+str(psnr(gt, gt)))\nplt.axis('off')\nplt.imshow(gt, vmin=vmin, vmax=vmax)\nf.add_subplot(1, 2, 2)\nplt.gray()\nplt.title(\"Noisy - PSNR: \"+str(psnr(gt, noise_img)))\nplt.imshow(noise_img, vmin=vmin, vmax=vmax)\nplt.axis('off')\nplt.show(block=False)"
      ]
    },
    {
      "cell_type": "markdown",
      "metadata": {},
      "source": [
        "TV- and Tikhonov-Regularization.\nBasically, the problem here consists of two parts.\nThe fidelity term and the regularization term.\nWhile we use the L2 norm to measure the proximity\nbetween the image and the degraded solution, the regularization\nterm forces a low gradient-norm. In our case we distinguish\nbetween TV and Tikhonov.\nTV is called the L1-norm of the gradient,\nwhile Tikhonov represents the L2-norm. Overall, TV preserves\nedges better.\n\n\n"
      ]
    },
    {
      "cell_type": "code",
      "execution_count": null,
      "metadata": {
        "collapsed": false
      },
      "outputs": [],
      "source": [
        "tv_smoothing = Smoothing(domain_shape=gt.shape, reg_mode='tv', lam=3, tau='calc')\nu_tv = tv_smoothing.solve(data=noise_img, max_iter=3000, tol=1e-4)\n\ntikh_smoothing = Smoothing(domain_shape=gt.shape, reg_mode='tikhonov', lam=0.1, tau='calc')\nu_tik = tikh_smoothing.solve(data=noise_img, max_iter=3000, tol=1e-4)\n\nf = plt.figure(figsize=(8, 4))\nf.add_subplot(1, 2, 1)\nplt.axis('off')\nplt.gray()\nplt.imshow(u_tik, vmin=vmin, vmax=vmax)\nplt.title(\"Tikhonov - PSNR: \"+str(psnr(gt, u_tik)))\nf.add_subplot(1, 2, 2)\nplt.imshow(u_tv, vmin=vmin, vmax=vmax)\nplt.title(\"TV - PSNR: \"+str(psnr(gt, u_tv)))\nplt.axis('off')\nplt.gray()\nplt.show(block=False)"
      ]
    },
    {
      "cell_type": "markdown",
      "metadata": {},
      "source": [
        "1D comparison with [gt, noise, Tikhonov, TV].\n\n"
      ]
    },
    {
      "cell_type": "code",
      "execution_count": null,
      "metadata": {
        "collapsed": false
      },
      "outputs": [],
      "source": [
        "x_min = 84\nx_max = 155\ny = 20\nplt.plot(range(x_min, x_max), gt[x_min:x_max,y], color=\"black\", label=\"GT\")\nplt.plot(range(x_min, x_max), u_tik[x_min:x_max,y], color=\"blue\", label=\"Tikhonov\")\nplt.plot(range(x_min, x_max), noise_img[x_min:x_max,y], color=\"red\", label=\"Noise\")\nplt.plot(range(x_min, x_max), u_tv[x_min:x_max,y], color=\"green\", label=\"TV\")\nplt.legend(loc=\"lower left\")\nplt.plot()\nplt.show(block=False)"
      ]
    },
    {
      "cell_type": "markdown",
      "metadata": {},
      "source": [
        "Bregman Iteration\nWe start from an over-regularized solution and iterate through\nthe degraded image with respect to the regularization functional (here TV).\nAn emerging loss of contrast can thus be compensated.\n\n"
      ]
    },
    {
      "cell_type": "code",
      "execution_count": null,
      "metadata": {
        "collapsed": false
      },
      "outputs": [],
      "source": [
        "breg_smoothing = SmoothBregman(domain_shape=gt.shape,\n                               reg_mode='tv',\n                               lam=1,\n                               tau='calc',\n                               plot_iteration=False,\n                               assessment=sigma * np.sqrt(np.prod(gt.shape)))\n\nu_breg = breg_smoothing.solve(data=noise_img, max_iter=2000, tol=1e-4)\n\nf = plt.figure(figsize=(8, 4))\nf.add_subplot(1, 2, 1)\nplt.axis('off')\nplt.gray()\nplt.imshow(u_tv, vmin=vmin, vmax=vmax)\nplt.title(\"TV - PSNR: \"+str(psnr(gt, u_tv)))\nf.add_subplot(1, 2, 2)\nplt.imshow(u_breg, vmin=vmin, vmax=vmax)\nplt.title(\"TV-Breg - PSNR: \"+str(psnr(gt, u_breg)))\nplt.axis('off')\nplt.gray()\nplt.show(block=False)"
      ]
    },
    {
      "cell_type": "markdown",
      "metadata": {},
      "source": [
        "1d comparison with [gt, noise, BTV, TV, Tikhonov].\n\n"
      ]
    },
    {
      "cell_type": "code",
      "execution_count": null,
      "metadata": {
        "collapsed": false
      },
      "outputs": [],
      "source": [
        "x_min = 84\nx_max = 155\ny = 20\nplt.plot(range(x_min, x_max), u_tik[x_min:x_max,y], color=\"darkcyan\", label=\"Tikhonov\")\nplt.plot(range(x_min, x_max), noise_img[x_min:x_max,y], color=\"red\", label=\"Noise\")\nplt.plot(range(x_min, x_max), u_tv[x_min:x_max,y], color=\"green\", label=\"TV\")\nplt.plot(range(x_min, x_max), gt[x_min:x_max,y], color=\"black\", label=\"GT\")\nplt.plot(range(x_min, x_max), u_breg[x_min:x_max,y], color=\"blue\", label=\"BTV\")\nplt.legend(loc=\"lower left\")\nplt.show(block=False)"
      ]
    }
  ],
  "metadata": {
    "kernelspec": {
      "display_name": "Python 3",
      "language": "python",
      "name": "python3"
    },
    "language_info": {
      "codemirror_mode": {
        "name": "ipython",
        "version": 3
      },
      "file_extension": ".py",
      "mimetype": "text/x-python",
      "name": "python",
      "nbconvert_exporter": "python",
      "pygments_lexer": "ipython3",
      "version": "3.7.9"
    }
  },
  "nbformat": 4,
  "nbformat_minor": 0
}